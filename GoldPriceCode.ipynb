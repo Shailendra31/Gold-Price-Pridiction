{
 "cells": [
  {
   "cell_type": "code",
   "execution_count": null,
   "metadata": {},
   "outputs": [],
   "source": [
    "import numpy as np \n",
    "import pandas as pd \n",
    "import seaborn as sns \n",
    "import matplotlib.pyplot as plt\n",
    "\n",
    "import warnings\n",
    "warnings.filterwarnings(\"ignore\") \n",
    "sns.set_style(\"darkgrid\", {\"grid.color\": \".6\", \n",
    "\t\t\t\t\t\t\"grid.linestyle\": \":\"})\n",
    "\n",
    "from sklearn.preprocessing import StandardScaler \n",
    "from sklearn.model_selection import train_test_split \n",
    "from sklearn.preprocessing import PolynomialFeatures\n",
    "from sklearn.pipeline import make_pipeline \n",
    "from sklearn.linear_model import Lasso\n",
    "\n",
    "from sklearn.ensemble import RandomForestRegressor \n",
    "from xgboost import XGBRegressor\n",
    "from sklearn.metrics import r2_score\n",
    "from sklearn.metrics import mean_squared_error \n",
    "from sklearn.model_selection import GridSearchCV\n"
   ]
  },
  {
   "cell_type": "code",
   "execution_count": null,
   "metadata": {},
   "outputs": [],
   "source": [
    "dataset = pd.read_csv(\"gold_price_data.csv\",\n",
    "                      parse_dates=[\"Date\"])"
   ]
  },
  {
   "cell_type": "code",
   "execution_count": null,
   "metadata": {},
   "outputs": [],
   "source": [
    "dataset.info()"
   ]
  },
  {
   "cell_type": "code",
   "execution_count": null,
   "metadata": {},
   "outputs": [],
   "source": [
    "dataset.isna().sum().sort_values(ascending=False)"
   ]
  },
  {
   "cell_type": "code",
   "execution_count": null,
   "metadata": {},
   "outputs": [],
   "source": [
    "# apply rolling mean with window size of 3\n",
    "dataset[\"price_trend\"] = dataset[\"EUR/USD\"]\\\n",
    "    .rolling(window=20).mean()\n",
    " \n",
    "# reset the index to date column\n",
    "dataset.reset_index(\"Date\", inplace=True)\n",
    " \n",
    "# since we have used rolling method\n",
    "# for 20 rows first 2 rows will be NAN\n",
    "dataset[\"price_trend\"].loc[20:].plot()\n",
    " \n",
    "# set title of the chart\n",
    "plt.title(\"Trend in price of gold through date\")\n",
    " \n",
    "# set x_label of the plot\n",
    "plt.xlabel(\"date\")\n",
    "plt.ylabel(\"price\")\n",
    "plt.show()"
   ]
  },
  {
   "cell_type": "code",
   "execution_count": null,
   "metadata": {},
   "outputs": [],
   "source": [
    "fig = plt.figure(figsize=(8, 8))\n",
    " \n",
    "# suptitle of the graph\n",
    "fig.suptitle('Distribution of data across column')\n",
    "temp = dataset.drop(\"Date\", axis=1).columns.tolist()\n",
    "for i, item in enumerate(temp):\n",
    "    plt.subplot(2, 3, i+1)\n",
    "    sns.histplot(data=dataset, x=item, kde=True)\n",
    "plt.tight_layout(pad=0.4, w_pad=0.5, h_pad=2.0)\n",
    "plt.show()"
   ]
  },
  {
   "cell_type": "code",
   "execution_count": null,
   "metadata": {},
   "outputs": [],
   "source": [
    "fig = plt.figure(figsize=(8, 8))\n",
    "temp = dataset.drop(\"Date\", axis=1).columns.tolist()\n",
    "for i, item in enumerate(temp):\n",
    "    plt.subplot(2, 3, i+1)\n",
    "    sns.boxplot(data=dataset, x=item, color='violet')\n",
    "plt.tight_layout(pad=0.4, w_pad=0.5, h_pad=2.0)\n",
    "plt.show()\n"
   ]
  },
  {
   "cell_type": "code",
   "execution_count": null,
   "metadata": {},
   "outputs": [],
   "source": [
    "def outlier_removal(column):\n",
    "    # Capping the outlier rows with Percentiles\n",
    "    upper_limit = column.quantile(.95)\n",
    "    # set upper limit to 95percentile\n",
    "    lower_limit = column.quantile(.05)\n",
    "    # set lower limit to 5 percentile\n",
    "    column.loc[(column > upper_limit)] = upper_limit\n",
    "    column.loc[(column < lower_limit)] = lower_limit\n",
    "    return column"
   ]
  },
  {
   "cell_type": "code",
   "execution_count": null,
   "metadata": {},
   "outputs": [],
   "source": [
    "dataset[['SPX', 'GLD', 'USO', 'EUR/USD']] = \\\n",
    "    dataset[['SPX', 'GLD', 'USO', 'EUR/USD']].apply(outlier_removal)"
   ]
  },
  {
   "cell_type": "code",
   "execution_count": null,
   "metadata": {},
   "outputs": [],
   "source": [
    "# select the features and target variable\n",
    "X = dataset.drop(['Date', 'EUR/USD'], axis=1)\n",
    " \n",
    "y = dataset['EUR/USD']\n",
    "# dividing dataset in to train test\n",
    "x_train, x_test,\\\n",
    "    y_train, y_test = train_test_split(X, y,\n",
    "                                       test_size=0.2)"
   ]
  },
  {
   "cell_type": "code",
   "execution_count": null,
   "metadata": {},
   "outputs": [],
   "source": [
    "# Create an instance of the StandardScaler\n",
    "scaler = StandardScaler()\n",
    " \n",
    "# Fit the StandardScaler on the training dataset\n",
    "scaler.fit(x_train)\n",
    " \n",
    "# Transform the training dataset\n",
    "# using the StandardScaler\n",
    "x_train_scaled = scaler.transform(x_train)\n",
    "x_test_scaled = scaler.transform(x_test)"
   ]
  },
  {
   "cell_type": "code",
   "execution_count": null,
   "metadata": {},
   "outputs": [],
   "source": [
    "# Insiate param grid for which to search\n",
    "param_grid = {'n_estimators': [50, 80, 100],\n",
    "              'max_depth': [3, 5, 7]}\n",
    " \n",
    "# create instance of the Randomforest regressor\n",
    "rf = RandomForestRegressor()\n",
    " \n",
    "# Define Girdsearch with random forest\n",
    "# object parameter grid scoring and cv\n",
    "rf_grid_search = GridSearchCV(rf, param_grid, scoring='r2', cv=2)\n",
    " \n",
    "# Fit the GridSearchCV object to the training data\n",
    " \n",
    "rf_grid_search.fit(x_train_scaled, y_train)\n",
    " \n",
    "# Print the best parameter values and score\n",
    "print('Best parameter values: ', rf_grid_search.best_params_)\n",
    "print('Best score: ', rf_grid_search.best_score_)"
   ]
  },
  {
   "cell_type": "code",
   "execution_count": null,
   "metadata": {},
   "outputs": [],
   "source": [
    "# Compute the R-squared of the\n",
    "# fitted model on the test data\n",
    "r2 = r2_score(y_test,\n",
    "              rf_grid_search.predict(x_test_scaled))\n",
    " \n",
    "# Print the R-squared\n",
    "print(\"R-squared:\", r2)"
   ]
  },
  {
   "cell_type": "code",
   "execution_count": null,
   "metadata": {},
   "outputs": [],
   "source": [
    "# Create an instance of the XGBRegressor model\n",
    "model_xgb = XGBRegressor()\n",
    " \n",
    "# Fit the model to the training data\n",
    "model_xgb.fit(x_train_scaled, y_train)\n",
    " \n",
    "# Print the R-squared score on the training data\n",
    "print(\"Xgboost Accuracy =\", r2_score(\n",
    "    y_train, model_xgb.predict(x_train_scaled)))"
   ]
  },
  {
   "cell_type": "code",
   "execution_count": null,
   "metadata": {},
   "outputs": [],
   "source": [
    "# Print the R-squared score on the test data\n",
    "print(\"Xgboost Accuracy on test data =\",\n",
    "      r2_score(y_test,\n",
    "               model_xgb.predict(x_test_scaled)))"
   ]
  }
 ],
 "metadata": {
  "language_info": {
   "name": "python"
  }
 },
 "nbformat": 4,
 "nbformat_minor": 2
}
